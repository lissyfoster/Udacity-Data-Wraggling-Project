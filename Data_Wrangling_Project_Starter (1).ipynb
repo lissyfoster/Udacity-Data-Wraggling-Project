{
 "cells": [
  {
   "cell_type": "markdown",
   "metadata": {
    "id": "GNIwe5N7s0e_"
   },
   "source": [
    "# Real-world Data Wrangling"
   ]
  },
  {
   "cell_type": "markdown",
   "metadata": {
    "id": "_BG63Tpg8ep_"
   },
   "source": [
    "In this project, you will apply the skills you acquired in the course to gather and wrangle real-world data with two datasets of your choice.\n",
    "\n",
    "You will retrieve and extract the data, assess the data programmatically and visually, accross elements of data quality and structure, and implement a cleaning strategy for the data. You will then store the updated data into your selected database/data store, combine the data, and answer a research question with the datasets.\n",
    "\n",
    "Throughout the process, you are expected to:\n",
    "\n",
    "1. Explain your decisions towards methods used for gathering, assessing, cleaning, storing, and answering the research question\n",
    "2. Write code comments so your code is more readable\n",
    "\n",
    "Before you start, install the some of the required packages. "
   ]
  },
  {
   "cell_type": "code",
   "execution_count": 19,
   "metadata": {},
   "outputs": [
    {
     "name": "stdout",
     "output_type": "stream",
     "text": [
      "Defaulting to user installation because normal site-packages is not writeable\n",
      "Requirement already satisfied: kaggle==1.6.12 in /home/student/.local/lib/python3.10/site-packages (1.6.12)\n",
      "Requirement already satisfied: python-dateutil in /opt/conda/lib/python3.10/site-packages (from kaggle==1.6.12) (2.9.0.post0)\n",
      "Requirement already satisfied: urllib3 in /opt/conda/lib/python3.10/site-packages (from kaggle==1.6.12) (1.26.15)\n",
      "Requirement already satisfied: bleach in /opt/conda/lib/python3.10/site-packages (from kaggle==1.6.12) (6.1.0)\n",
      "Requirement already satisfied: certifi>=2023.7.22 in /home/student/.local/lib/python3.10/site-packages (from kaggle==1.6.12) (2024.6.2)\n",
      "Requirement already satisfied: six>=1.10 in /opt/conda/lib/python3.10/site-packages (from kaggle==1.6.12) (1.16.0)\n",
      "Requirement already satisfied: requests in /opt/conda/lib/python3.10/site-packages (from kaggle==1.6.12) (2.29.0)\n",
      "Requirement already satisfied: tqdm in /opt/conda/lib/python3.10/site-packages (from kaggle==1.6.12) (4.65.0)\n",
      "Requirement already satisfied: python-slugify in /home/student/.local/lib/python3.10/site-packages (from kaggle==1.6.12) (8.0.4)\n",
      "Requirement already satisfied: webencodings in /opt/conda/lib/python3.10/site-packages (from bleach->kaggle==1.6.12) (0.5.1)\n",
      "Requirement already satisfied: text-unidecode>=1.3 in /home/student/.local/lib/python3.10/site-packages (from python-slugify->kaggle==1.6.12) (1.3)\n",
      "Requirement already satisfied: charset-normalizer<4,>=2 in /opt/conda/lib/python3.10/site-packages (from requests->kaggle==1.6.12) (2.0.4)\n",
      "Requirement already satisfied: idna<4,>=2.5 in /opt/conda/lib/python3.10/site-packages (from requests->kaggle==1.6.12) (3.4)\n"
     ]
    }
   ],
   "source": [
    "!python -m pip install kaggle==1.6.12\n"
   ]
  },
  {
   "cell_type": "code",
   "execution_count": 20,
   "metadata": {},
   "outputs": [
    {
     "name": "stdout",
     "output_type": "stream",
     "text": [
      "Collecting ucimlrepo\n",
      "  Using cached ucimlrepo-0.0.7-py3-none-any.whl (8.0 kB)\n",
      "Collecting pandas>=1.0.0\n",
      "  Using cached pandas-2.2.2-cp310-cp310-manylinux_2_17_x86_64.manylinux2014_x86_64.whl (13.0 MB)\n",
      "Collecting certifi>=2020.12.5\n",
      "  Using cached certifi-2024.6.2-py3-none-any.whl (164 kB)\n",
      "Collecting python-dateutil>=2.8.2\n",
      "  Using cached python_dateutil-2.9.0.post0-py2.py3-none-any.whl (229 kB)\n",
      "Collecting pytz>=2020.1\n",
      "  Using cached pytz-2024.1-py2.py3-none-any.whl (505 kB)\n",
      "Collecting tzdata>=2022.7\n",
      "  Using cached tzdata-2024.1-py2.py3-none-any.whl (345 kB)\n",
      "Collecting numpy>=1.22.4\n",
      "  Using cached numpy-2.0.0-cp310-cp310-manylinux_2_17_x86_64.manylinux2014_x86_64.whl (19.3 MB)\n",
      "Collecting six>=1.5\n",
      "  Using cached six-1.16.0-py2.py3-none-any.whl (11 kB)\n",
      "Installing collected packages: pytz, tzdata, six, numpy, certifi, python-dateutil, pandas, ucimlrepo\n",
      "\u001b[31mERROR: pip's dependency resolver does not currently take into account all the packages that are installed. This behaviour is the source of the following dependency conflicts.\n",
      "scipy 1.11.2 requires numpy<1.28.0,>=1.21.6, but you have numpy 2.0.0 which is incompatible.\u001b[0m\u001b[31m\n",
      "\u001b[0mSuccessfully installed certifi-2024.6.2 numpy-2.0.0 pandas-2.2.2 python-dateutil-2.9.0.post0 pytz-2024.1 six-1.16.0 tzdata-2024.1 ucimlrepo-0.0.7\n",
      "\u001b[33mWARNING: Target directory /workspace/__pycache__ already exists. Specify --upgrade to force replacement.\u001b[0m\u001b[33m\n",
      "\u001b[0m\u001b[33mWARNING: Target directory /workspace/six.py already exists. Specify --upgrade to force replacement.\u001b[0m\u001b[33m\n",
      "\u001b[0m\u001b[33mWARNING: Target directory /workspace/pytz already exists. Specify --upgrade to force replacement.\u001b[0m\u001b[33m\n",
      "\u001b[0m\u001b[33mWARNING: Target directory /workspace/ucimlrepo-0.0.7.dist-info already exists. Specify --upgrade to force replacement.\u001b[0m\u001b[33m\n",
      "\u001b[0m\u001b[33mWARNING: Target directory /workspace/tzdata already exists. Specify --upgrade to force replacement.\u001b[0m\u001b[33m\n",
      "\u001b[0m\u001b[33mWARNING: Target directory /workspace/six-1.16.0.dist-info already exists. Specify --upgrade to force replacement.\u001b[0m\u001b[33m\n",
      "\u001b[0m\u001b[33mWARNING: Target directory /workspace/certifi-2024.6.2.dist-info already exists. Specify --upgrade to force replacement.\u001b[0m\u001b[33m\n",
      "\u001b[0m\u001b[33mWARNING: Target directory /workspace/pandas-2.2.2.dist-info already exists. Specify --upgrade to force replacement.\u001b[0m\u001b[33m\n",
      "\u001b[0m\u001b[33mWARNING: Target directory /workspace/python_dateutil-2.9.0.post0.dist-info already exists. Specify --upgrade to force replacement.\u001b[0m\u001b[33m\n",
      "\u001b[0m\u001b[33mWARNING: Target directory /workspace/numpy-2.0.0.dist-info already exists. Specify --upgrade to force replacement.\u001b[0m\u001b[33m\n",
      "\u001b[0m\u001b[33mWARNING: Target directory /workspace/numpy already exists. Specify --upgrade to force replacement.\u001b[0m\u001b[33m\n",
      "\u001b[0m\u001b[33mWARNING: Target directory /workspace/ucimlrepo already exists. Specify --upgrade to force replacement.\u001b[0m\u001b[33m\n",
      "\u001b[0m\u001b[33mWARNING: Target directory /workspace/dateutil already exists. Specify --upgrade to force replacement.\u001b[0m\u001b[33m\n",
      "\u001b[0m\u001b[33mWARNING: Target directory /workspace/pandas already exists. Specify --upgrade to force replacement.\u001b[0m\u001b[33m\n",
      "\u001b[0m\u001b[33mWARNING: Target directory /workspace/certifi already exists. Specify --upgrade to force replacement.\u001b[0m\u001b[33m\n",
      "\u001b[0m\u001b[33mWARNING: Target directory /workspace/numpy.libs already exists. Specify --upgrade to force replacement.\u001b[0m\u001b[33m\n",
      "\u001b[0m\u001b[33mWARNING: Target directory /workspace/tzdata-2024.1.dist-info already exists. Specify --upgrade to force replacement.\u001b[0m\u001b[33m\n",
      "\u001b[0m\u001b[33mWARNING: Target directory /workspace/pytz-2024.1.dist-info already exists. Specify --upgrade to force replacement.\u001b[0m\u001b[33m\n",
      "\u001b[0m\u001b[33mWARNING: Target directory /workspace/bin already exists. Specify --upgrade to force replacement.\u001b[0m\u001b[33m\n",
      "\u001b[0m"
     ]
    }
   ],
   "source": [
    "!pip install --target=/workspace ucimlrepo"
   ]
  },
  {
   "cell_type": "code",
   "execution_count": 21,
   "metadata": {},
   "outputs": [
    {
     "name": "stdout",
     "output_type": "stream",
     "text": [
      "Defaulting to user installation because normal site-packages is not writeable\n",
      "Requirement already satisfied: matplotlib in /home/student/.local/lib/python3.10/site-packages (3.9.0)\n",
      "Requirement already satisfied: cycler>=0.10 in /opt/conda/lib/python3.10/site-packages (from matplotlib) (0.12.1)\n",
      "Requirement already satisfied: pillow>=8 in /opt/conda/lib/python3.10/site-packages (from matplotlib) (9.4.0)\n",
      "Requirement already satisfied: numpy>=1.23 in /home/student/.local/lib/python3.10/site-packages (from matplotlib) (1.26.4)\n",
      "Requirement already satisfied: pyparsing>=2.3.1 in /opt/conda/lib/python3.10/site-packages (from matplotlib) (3.0.9)\n",
      "Requirement already satisfied: packaging>=20.0 in /opt/conda/lib/python3.10/site-packages (from matplotlib) (23.0)\n",
      "Requirement already satisfied: fonttools>=4.22.0 in /opt/conda/lib/python3.10/site-packages (from matplotlib) (4.51.0)\n",
      "Requirement already satisfied: kiwisolver>=1.3.1 in /opt/conda/lib/python3.10/site-packages (from matplotlib) (1.4.5)\n",
      "Requirement already satisfied: python-dateutil>=2.7 in /opt/conda/lib/python3.10/site-packages (from matplotlib) (2.9.0.post0)\n",
      "Requirement already satisfied: contourpy>=1.0.1 in /opt/conda/lib/python3.10/site-packages (from matplotlib) (1.2.1)\n",
      "Requirement already satisfied: six>=1.5 in /opt/conda/lib/python3.10/site-packages (from python-dateutil>=2.7->matplotlib) (1.16.0)\n",
      "Defaulting to user installation because normal site-packages is not writeable\n",
      "Requirement already satisfied: numpy==1.26.4 in /home/student/.local/lib/python3.10/site-packages (1.26.4)\n"
     ]
    }
   ],
   "source": [
    "!pip install -U matplotlib\n",
    "!pip install numpy==1.26.4"
   ]
  },
  {
   "cell_type": "markdown",
   "metadata": {
    "id": "lDYDkH-Zs7Nn"
   },
   "source": [
    "## 1. Gather data\n",
    "\n",
    "In this section, you will extract data using two different data gathering methods and combine the data. Use at least two different types of data-gathering methods."
   ]
  },
  {
   "cell_type": "markdown",
   "metadata": {
    "id": "LbN7z7rcuqpO"
   },
   "source": [
    "### **1.1.** Problem Statement\n",
    "In 2-4 sentences, explain the kind of problem you want to look at and the datasets you will be wrangling for this project.\n",
    "\n",
    "*  There are two problem statements I would like to solve with my datasets. The first one is to identify how many artists on Rolling Stone's top 500 list are also included in Spotify's most played list. The other problem I would like to solve is identifying which songs made the list in both datasets."
   ]
  },
  {
   "cell_type": "markdown",
   "metadata": {
    "id": "gi6swhjSYqu2"
   },
   "source": [
    "Finding the right datasets can be time-consuming. Here we provide you with a list of websites to start with. But we encourage you to explore more websites and find the data that interests you.\n",
    "\n",
    "* Google Dataset Search https://datasetsearch.research.google.com/\n",
    "* The U.S. Government’s open data https://data.gov/\n",
    "* UCI Machine Learning Repository https://archive.ics.uci.edu/ml/index.php\n"
   ]
  },
  {
   "cell_type": "markdown",
   "metadata": {
    "id": "8AQfBAdUypMm"
   },
   "source": [
    "### **1.2.** Gather at least two datasets using two different data gathering methods\n",
    "\n",
    "List of data gathering methods:\n",
    "\n",
    "- Download data manually\n",
    "- Programmatically downloading files\n",
    "- Gather data by accessing APIs\n",
    "- Gather and extract data from HTML files using BeautifulSoup\n",
    "- Extract data from a SQL database\n",
    "\n",
    "Each dataset must have at least two variables, and have greater than 500 data samples within each dataset.\n",
    "\n",
    "For each dataset, briefly describe why you picked the dataset and the gathering method (2-3 full sentences), including the names and significance of the variables in the dataset. Show your work (e.g., if using an API to download the data, please include a snippet of your code). \n",
    "\n",
    "Load the dataset programmtically into this notebook."
   ]
  },
  {
   "cell_type": "markdown",
   "metadata": {
    "id": "7e6gS0wL1KTu"
   },
   "source": [
    "#### **Dataset 1**\n",
    "\n",
    "Type: HTML\n",
    "\n",
    "Method: Gathered, extracted, and parsed HTML data from a URL (https://en.wikipedia.org/wiki/Wikipedia:WikiProject_Songs/500) using BeautifulSoup. \n",
    "\n",
    "\n",
    "Dataset variables:\n",
    "\n",
    "*   Variable 1: Artist - can be used to identify artists that have more than one song on the top 500 list in dataset 1. \n",
    "*   Variable 2: Song - a unique variable that can be used with dataset 2 to identify songs that consumers are playing most on spotify. \n",
    "\n",
    "Dataset description:\n",
    "*   This dataset was chosen because it provided a clear way of scraping a website to pull in table data. The dataset helps to identify artists and songs on the top 500 list. Columns in this dataset include Rank, Song, Artist,and Year.\n"
   ]
  },
  {
   "cell_type": "code",
   "execution_count": 1,
   "metadata": {
    "id": "Su8E0uLuYkHU"
   },
   "outputs": [],
   "source": [
    "#data gathering and loading method\n",
    "#import libraries needed for data wrangling and analysis\n",
    "import pandas as pd\n",
    "from bs4 import BeautifulSoup\n",
    "import requests\n",
    "import matplotlib.pyplot as plt\n",
    "\n",
    "\n",
    "#Programmatically make a GET request\n",
    "url = 'https://en.wikipedia.org/wiki/Wikipedia:WikiProject_Songs/500'\n",
    "songs = requests.get(url)"
   ]
  },
  {
   "cell_type": "markdown",
   "metadata": {},
   "source": [
    "**Note:** Restart the kernel to use updated package(s)."
   ]
  },
  {
   "cell_type": "code",
   "execution_count": 4,
   "metadata": {},
   "outputs": [],
   "source": [
    "#Use BeautifulSoup to parse the data\n",
    "soup_songs = BeautifulSoup(songs.text,'html.parser')\n",
    "#Find the table containing the Top 500 Songs\n",
    "table = soup_songs.find('table',class_='wikitable sortable')"
   ]
  },
  {
   "cell_type": "code",
   "execution_count": 5,
   "metadata": {},
   "outputs": [
    {
     "data": {
      "text/plain": [
       "[<th>Rank\n",
       " </th>,\n",
       " <th>Song\n",
       " </th>,\n",
       " <th>Artist\n",
       " </th>,\n",
       " <th>Year\n",
       " </th>]"
      ]
     },
     "execution_count": 5,
     "metadata": {},
     "output_type": "execute_result"
    }
   ],
   "source": [
    "#Identify the dataset headers by searching for each 'th' tag\n",
    "headers = table.find_all('th')\n",
    "headers"
   ]
  },
  {
   "cell_type": "code",
   "execution_count": 6,
   "metadata": {},
   "outputs": [
    {
     "name": "stdout",
     "output_type": "stream",
     "text": [
      "['Rank', 'Song', 'Artist', 'Year']\n"
     ]
    }
   ],
   "source": [
    "#Strip the data of html code\n",
    "find_headers = [title.text.strip() for title in headers]\n",
    "print(find_headers)"
   ]
  },
  {
   "cell_type": "code",
   "execution_count": 7,
   "metadata": {},
   "outputs": [],
   "source": [
    "#Create a dataframe with the headers\n",
    "df = pd.DataFrame(columns=find_headers)"
   ]
  },
  {
   "cell_type": "code",
   "execution_count": 8,
   "metadata": {},
   "outputs": [],
   "source": [
    "#Identify the dataset columns by searching for each 'tr' tag\n",
    "columns = table.find_all('tr')"
   ]
  },
  {
   "cell_type": "code",
   "execution_count": 9,
   "metadata": {},
   "outputs": [
    {
     "data": {
      "text/html": [
       "<div>\n",
       "<style scoped>\n",
       "    .dataframe tbody tr th:only-of-type {\n",
       "        vertical-align: middle;\n",
       "    }\n",
       "\n",
       "    .dataframe tbody tr th {\n",
       "        vertical-align: top;\n",
       "    }\n",
       "\n",
       "    .dataframe thead th {\n",
       "        text-align: right;\n",
       "    }\n",
       "</style>\n",
       "<table border=\"1\" class=\"dataframe\">\n",
       "  <thead>\n",
       "    <tr style=\"text-align: right;\">\n",
       "      <th></th>\n",
       "      <th>Rank</th>\n",
       "      <th>Song</th>\n",
       "      <th>Artist</th>\n",
       "      <th>Year</th>\n",
       "    </tr>\n",
       "  </thead>\n",
       "  <tbody>\n",
       "    <tr>\n",
       "      <th>0</th>\n",
       "      <td>500</td>\n",
       "      <td>Stronger</td>\n",
       "      <td>Kanye West</td>\n",
       "      <td>2007</td>\n",
       "    </tr>\n",
       "    <tr>\n",
       "      <th>1</th>\n",
       "      <td>499</td>\n",
       "      <td>Baby Love</td>\n",
       "      <td>The Supremes</td>\n",
       "      <td>1964</td>\n",
       "    </tr>\n",
       "    <tr>\n",
       "      <th>2</th>\n",
       "      <td>498</td>\n",
       "      <td>Pancho and Lefty</td>\n",
       "      <td>Townes Van Zandt</td>\n",
       "      <td>1972</td>\n",
       "    </tr>\n",
       "    <tr>\n",
       "      <th>3</th>\n",
       "      <td>497</td>\n",
       "      <td>Truth Hurts</td>\n",
       "      <td>Lizzo</td>\n",
       "      <td>2017</td>\n",
       "    </tr>\n",
       "    <tr>\n",
       "      <th>4</th>\n",
       "      <td>496</td>\n",
       "      <td>Without You</td>\n",
       "      <td>Harry Nilsson</td>\n",
       "      <td>1971</td>\n",
       "    </tr>\n",
       "    <tr>\n",
       "      <th>...</th>\n",
       "      <td>...</td>\n",
       "      <td>...</td>\n",
       "      <td>...</td>\n",
       "      <td>...</td>\n",
       "    </tr>\n",
       "    <tr>\n",
       "      <th>495</th>\n",
       "      <td>5</td>\n",
       "      <td>Smells Like Teen Spirit</td>\n",
       "      <td>Nirvana</td>\n",
       "      <td>1991</td>\n",
       "    </tr>\n",
       "    <tr>\n",
       "      <th>496</th>\n",
       "      <td>4</td>\n",
       "      <td>Like a Rolling Stone</td>\n",
       "      <td>Bob Dylan</td>\n",
       "      <td>1965</td>\n",
       "    </tr>\n",
       "    <tr>\n",
       "      <th>497</th>\n",
       "      <td>3</td>\n",
       "      <td>A Change Is Gonna Come</td>\n",
       "      <td>Sam Cooke</td>\n",
       "      <td>1964</td>\n",
       "    </tr>\n",
       "    <tr>\n",
       "      <th>498</th>\n",
       "      <td>2</td>\n",
       "      <td>Fight the Power</td>\n",
       "      <td>Public Enemy</td>\n",
       "      <td>1989</td>\n",
       "    </tr>\n",
       "    <tr>\n",
       "      <th>499</th>\n",
       "      <td>1</td>\n",
       "      <td>Respect</td>\n",
       "      <td>Aretha Franklin</td>\n",
       "      <td>1967</td>\n",
       "    </tr>\n",
       "  </tbody>\n",
       "</table>\n",
       "<p>500 rows × 4 columns</p>\n",
       "</div>"
      ],
      "text/plain": [
       "    Rank                     Song            Artist  Year\n",
       "0    500                 Stronger        Kanye West  2007\n",
       "1    499                Baby Love      The Supremes  1964\n",
       "2    498         Pancho and Lefty  Townes Van Zandt  1972\n",
       "3    497              Truth Hurts             Lizzo  2017\n",
       "4    496              Without You     Harry Nilsson  1971\n",
       "..   ...                      ...               ...   ...\n",
       "495    5  Smells Like Teen Spirit           Nirvana  1991\n",
       "496    4     Like a Rolling Stone         Bob Dylan  1965\n",
       "497    3   A Change Is Gonna Come         Sam Cooke  1964\n",
       "498    2          Fight the Power      Public Enemy  1989\n",
       "499    1                  Respect   Aretha Franklin  1967\n",
       "\n",
       "[500 rows x 4 columns]"
      ]
     },
     "execution_count": 9,
     "metadata": {},
     "output_type": "execute_result"
    }
   ],
   "source": [
    "#Identify the values for each record using the 'td' tag\n",
    "for row in columns[1:]:\n",
    "    rows = row.find_all('td')\n",
    "    row_data= [data.text.strip() for data in rows]\n",
    "    \n",
    "    length =len(df)\n",
    "    df.loc[length] = row_data\n",
    "    \n",
    "df"
   ]
  },
  {
   "cell_type": "code",
   "execution_count": 10,
   "metadata": {},
   "outputs": [],
   "source": [
    "#Insert the dataframe values into a csv file\n",
    "df.to_csv('RollingStoneTop500Songs.csv',index=False)"
   ]
  },
  {
   "cell_type": "code",
   "execution_count": 11,
   "metadata": {
    "id": "6zT0QxRyYmm7"
   },
   "outputs": [],
   "source": [
    "#FILL IN 2nd data gathering and loading method\n",
    "df_csv = pd.read_csv('SpotifyMostPlayedSongs.csv')"
   ]
  },
  {
   "cell_type": "markdown",
   "metadata": {
    "id": "hoUjq1tPzz7P"
   },
   "source": [
    "#### Dataset 2\n",
    "\n",
    "Type: CSV File\n",
    "\n",
    "Method: The data was gathered using the \"Downloading files\" method from a csv file. \n",
    "\n",
    "\n",
    "Dataset variables:\n",
    "\n",
    "*   Variable 1: ArtistAndTitle - can be used to identify artists and song titles. \n",
    "*   Variable 2: Streams - This values tells us the total number of times this song was streamed. \n",
    "\n",
    "Dataset description:\n",
    "*   This dataset was chosen because it compliments the data in dataset 1 and helps with resolving our problem statements. This dataset has almost 2500 records, which allows for more analysis to be performed. Columns included in this dataset are ArtistAndTitle, Stream, and Daily. "
   ]
  },
  {
   "cell_type": "markdown",
   "metadata": {},
   "source": [
    "Optional data storing step: You may save your raw dataset files to the local data store before moving to the next step."
   ]
  },
  {
   "cell_type": "code",
   "execution_count": null,
   "metadata": {},
   "outputs": [],
   "source": [
    "#Optional: store the raw data in your local data store"
   ]
  },
  {
   "cell_type": "markdown",
   "metadata": {
    "id": "QwSWIVmotLgV"
   },
   "source": [
    "## 2. Assess data\n",
    "\n",
    "Assess the data according to data quality and tidiness metrics using the report below.\n",
    "\n",
    "List **two** data quality issues and **two** tidiness issues. Assess each data issue visually **and** programmatically, then briefly describe the issue you find.  **Make sure you include justifications for the methods you use for the assessment.**"
   ]
  },
  {
   "cell_type": "markdown",
   "metadata": {
    "id": "adaK2iPNzVu4"
   },
   "source": [
    "### Quality Issue 1: Uniqueness"
   ]
  },
  {
   "cell_type": "markdown",
   "metadata": {},
   "source": [
    "**Quality Issue 1: Uniqueness**\n",
    "\n",
    "I first inspected the data visually using the Notepad ++ text editor to see if there were any duplicate values. I suspected there were, but wanted a programmatic way to verify if this is true. \n",
    "In the code cells below, I use the .duplicated() function to check for duplicates. The output verified that rows 2499, 2500, 2501, and 2502 all had duplicate values."
   ]
  },
  {
   "cell_type": "code",
   "execution_count": null,
   "metadata": {
    "id": "iMhHyiyLM2I3"
   },
   "outputs": [],
   "source": [
    "#Inspecting the dataframe visually - this was done using a text editor called Notepad ++"
   ]
  },
  {
   "cell_type": "code",
   "execution_count": 14,
   "metadata": {
    "id": "bnviRCUI-bb7"
   },
   "outputs": [
    {
     "data": {
      "text/plain": [
       "0       False\n",
       "1       False\n",
       "2       False\n",
       "3       False\n",
       "4       False\n",
       "        ...  \n",
       "2498    False\n",
       "2499     True\n",
       "2500     True\n",
       "2501     True\n",
       "2502     True\n",
       "Length: 2503, dtype: bool"
      ]
     },
     "execution_count": 14,
     "metadata": {},
     "output_type": "execute_result"
    }
   ],
   "source": [
    "#Inspecting the dataframe programmatically\n",
    "df_csv.duplicated()"
   ]
  },
  {
   "cell_type": "markdown",
   "metadata": {},
   "source": [
    "**Issues and justification:**\n",
    "\n",
    "I identified two issues in the df_csv dataframe. The first issue was completeness and the second issue was uniqueness. I performed both visual and programmatic inspections to identify these data quality issues. The programmatic inspections I used were the .duplicated() and .info() functions."
   ]
  },
  {
   "cell_type": "markdown",
   "metadata": {
    "id": "8Be77N4I1AmE"
   },
   "source": [
    "### Quality Issue 2: Completeness"
   ]
  },
  {
   "cell_type": "markdown",
   "metadata": {},
   "source": [
    "**Quality Issue 2: Completeness**\n",
    "\n",
    "In the code cells below, I start by inspecting the data visually using .head(). Here we find there is a data completeness issue. Reviewing the output of that method, we've identified there is at least 1 missing value in the Daily column that will need to be cleaned up. \n",
    "\n",
    "I then use the .info() function to programmatically check if there are more records with missing values. The output shows there are 2503 total records and the Daily column only has 2490 records. This means that column is missing 13 values for that field."
   ]
  },
  {
   "cell_type": "code",
   "execution_count": 12,
   "metadata": {
    "id": "SpW59kh-zl8d"
   },
   "outputs": [
    {
     "data": {
      "text/html": [
       "<div>\n",
       "<style scoped>\n",
       "    .dataframe tbody tr th:only-of-type {\n",
       "        vertical-align: middle;\n",
       "    }\n",
       "\n",
       "    .dataframe tbody tr th {\n",
       "        vertical-align: top;\n",
       "    }\n",
       "\n",
       "    .dataframe thead th {\n",
       "        text-align: right;\n",
       "    }\n",
       "</style>\n",
       "<table border=\"1\" class=\"dataframe\">\n",
       "  <thead>\n",
       "    <tr style=\"text-align: right;\">\n",
       "      <th></th>\n",
       "      <th>ArtistAndTitle</th>\n",
       "      <th>Streams</th>\n",
       "      <th>Daily</th>\n",
       "    </tr>\n",
       "  </thead>\n",
       "  <tbody>\n",
       "    <tr>\n",
       "      <th>0</th>\n",
       "      <td>The Weeknd - Blinding Lights</td>\n",
       "      <td>4297434813</td>\n",
       "      <td>1914133.0</td>\n",
       "    </tr>\n",
       "    <tr>\n",
       "      <th>1</th>\n",
       "      <td>Ed Sheeran - Shape of You</td>\n",
       "      <td>3918746202</td>\n",
       "      <td>1042245.0</td>\n",
       "    </tr>\n",
       "    <tr>\n",
       "      <th>2</th>\n",
       "      <td>Lewis Capaldi - Someone You Loved</td>\n",
       "      <td>3441950617</td>\n",
       "      <td>1615795.0</td>\n",
       "    </tr>\n",
       "    <tr>\n",
       "      <th>3</th>\n",
       "      <td>Post Malone - Sunflower</td>\n",
       "      <td>3373282054</td>\n",
       "      <td>1663595.0</td>\n",
       "    </tr>\n",
       "    <tr>\n",
       "      <th>4</th>\n",
       "      <td>Harry Styles - As It Was</td>\n",
       "      <td>3328502433</td>\n",
       "      <td>3266754.0</td>\n",
       "    </tr>\n",
       "    <tr>\n",
       "      <th>5</th>\n",
       "      <td>The Weeknd - Starboy</td>\n",
       "      <td>3307642948</td>\n",
       "      <td>1799877.0</td>\n",
       "    </tr>\n",
       "    <tr>\n",
       "      <th>6</th>\n",
       "      <td>Drake - One Dance</td>\n",
       "      <td>3205192870</td>\n",
       "      <td>1573581.0</td>\n",
       "    </tr>\n",
       "    <tr>\n",
       "      <th>7</th>\n",
       "      <td>The Kid LAROI - STAY</td>\n",
       "      <td>3121237658</td>\n",
       "      <td>NaN</td>\n",
       "    </tr>\n",
       "    <tr>\n",
       "      <th>8</th>\n",
       "      <td>Tones And I - Dance Monkey</td>\n",
       "      <td>3076532398</td>\n",
       "      <td>614284.0</td>\n",
       "    </tr>\n",
       "    <tr>\n",
       "      <th>9</th>\n",
       "      <td>Imagine Dragons - Believer</td>\n",
       "      <td>3017873664</td>\n",
       "      <td>1294031.0</td>\n",
       "    </tr>\n",
       "    <tr>\n",
       "      <th>10</th>\n",
       "      <td>Glass Animals - Heat Waves</td>\n",
       "      <td>3011043708</td>\n",
       "      <td>1680510.0</td>\n",
       "    </tr>\n",
       "    <tr>\n",
       "      <th>11</th>\n",
       "      <td>Ed Sheeran - Perfect</td>\n",
       "      <td>2980490428</td>\n",
       "      <td>1151740.0</td>\n",
       "    </tr>\n",
       "    <tr>\n",
       "      <th>12</th>\n",
       "      <td>Post Malone - rockstar</td>\n",
       "      <td>2966165489</td>\n",
       "      <td>707646.0</td>\n",
       "    </tr>\n",
       "    <tr>\n",
       "      <th>13</th>\n",
       "      <td>The Neighbourhood - Sweater Weather</td>\n",
       "      <td>2940345447</td>\n",
       "      <td>2711122.0</td>\n",
       "    </tr>\n",
       "    <tr>\n",
       "      <th>14</th>\n",
       "      <td>The Chainsmokers - Closer</td>\n",
       "      <td>2890429010</td>\n",
       "      <td>1108245.0</td>\n",
       "    </tr>\n",
       "  </tbody>\n",
       "</table>\n",
       "</div>"
      ],
      "text/plain": [
       "                         ArtistAndTitle     Streams      Daily\n",
       "0          The Weeknd - Blinding Lights  4297434813  1914133.0\n",
       "1             Ed Sheeran - Shape of You  3918746202  1042245.0\n",
       "2     Lewis Capaldi - Someone You Loved  3441950617  1615795.0\n",
       "3               Post Malone - Sunflower  3373282054  1663595.0\n",
       "4              Harry Styles - As It Was  3328502433  3266754.0\n",
       "5                  The Weeknd - Starboy  3307642948  1799877.0\n",
       "6                     Drake - One Dance  3205192870  1573581.0\n",
       "7                  The Kid LAROI - STAY  3121237658        NaN\n",
       "8            Tones And I - Dance Monkey  3076532398   614284.0\n",
       "9            Imagine Dragons - Believer  3017873664  1294031.0\n",
       "10           Glass Animals - Heat Waves  3011043708  1680510.0\n",
       "11                 Ed Sheeran - Perfect  2980490428  1151740.0\n",
       "12               Post Malone - rockstar  2966165489   707646.0\n",
       "13  The Neighbourhood - Sweater Weather  2940345447  2711122.0\n",
       "14            The Chainsmokers - Closer  2890429010  1108245.0"
      ]
     },
     "execution_count": 12,
     "metadata": {},
     "output_type": "execute_result"
    }
   ],
   "source": [
    "#Inspecting the dataframe visually to find any missing values\n",
    "df_csv.head(15)"
   ]
  },
  {
   "cell_type": "code",
   "execution_count": 13,
   "metadata": {
    "id": "-qfcocStzsKg"
   },
   "outputs": [
    {
     "name": "stdout",
     "output_type": "stream",
     "text": [
      "<class 'pandas.core.frame.DataFrame'>\n",
      "RangeIndex: 2503 entries, 0 to 2502\n",
      "Data columns (total 3 columns):\n",
      " #   Column          Non-Null Count  Dtype  \n",
      "---  ------          --------------  -----  \n",
      " 0   ArtistAndTitle  2503 non-null   object \n",
      " 1   Streams         2503 non-null   int64  \n",
      " 2   Daily           2490 non-null   float64\n",
      "dtypes: float64(1), int64(1), object(1)\n",
      "memory usage: 58.8+ KB\n"
     ]
    }
   ],
   "source": [
    "#Inspecting the dataframe programmatically to check how many records have missing values in the dataset\n",
    "df_csv.info()"
   ]
  },
  {
   "cell_type": "markdown",
   "metadata": {},
   "source": [
    "Issue and justification: A data completeness issue was identified when programmatically analyzing the dataset. There is are a few missing values in the Daily column that will need to be addressed."
   ]
  },
  {
   "cell_type": "markdown",
   "metadata": {
    "id": "lXhGiYyiwwKN"
   },
   "source": [
    "### Tidiness Issue 1: Different value types for data of the same format"
   ]
  },
  {
   "cell_type": "code",
   "execution_count": 17,
   "metadata": {
    "id": "XUpeoqokw5Qt"
   },
   "outputs": [
    {
     "data": {
      "text/html": [
       "<div>\n",
       "<style scoped>\n",
       "    .dataframe tbody tr th:only-of-type {\n",
       "        vertical-align: middle;\n",
       "    }\n",
       "\n",
       "    .dataframe tbody tr th {\n",
       "        vertical-align: top;\n",
       "    }\n",
       "\n",
       "    .dataframe thead th {\n",
       "        text-align: right;\n",
       "    }\n",
       "</style>\n",
       "<table border=\"1\" class=\"dataframe\">\n",
       "  <thead>\n",
       "    <tr style=\"text-align: right;\">\n",
       "      <th></th>\n",
       "      <th>ArtistAndTitle</th>\n",
       "      <th>Streams</th>\n",
       "      <th>Daily</th>\n",
       "    </tr>\n",
       "  </thead>\n",
       "  <tbody>\n",
       "    <tr>\n",
       "      <th>2041</th>\n",
       "      <td>T.I. - Live Your Life</td>\n",
       "      <td>552812799</td>\n",
       "      <td>210353.0</td>\n",
       "    </tr>\n",
       "    <tr>\n",
       "      <th>600</th>\n",
       "      <td>Doja Cat - Streets</td>\n",
       "      <td>1061722096</td>\n",
       "      <td>544747.0</td>\n",
       "    </tr>\n",
       "    <tr>\n",
       "      <th>2461</th>\n",
       "      <td>Matt Sassari - Give It To Me</td>\n",
       "      <td>485213778</td>\n",
       "      <td>947492.0</td>\n",
       "    </tr>\n",
       "    <tr>\n",
       "      <th>2242</th>\n",
       "      <td>Quevedo - VISTA AL MAR</td>\n",
       "      <td>514769386</td>\n",
       "      <td>264299.0</td>\n",
       "    </tr>\n",
       "    <tr>\n",
       "      <th>1972</th>\n",
       "      <td>Adele - Oh My God</td>\n",
       "      <td>563881935</td>\n",
       "      <td>192033.0</td>\n",
       "    </tr>\n",
       "    <tr>\n",
       "      <th>2438</th>\n",
       "      <td>Kid Rock - All Summer Long</td>\n",
       "      <td>488415408</td>\n",
       "      <td>343194.0</td>\n",
       "    </tr>\n",
       "    <tr>\n",
       "      <th>267</th>\n",
       "      <td>Rihanna - Needed Me</td>\n",
       "      <td>1489897207</td>\n",
       "      <td>736512.0</td>\n",
       "    </tr>\n",
       "    <tr>\n",
       "      <th>515</th>\n",
       "      <td>Ice Cube - It Was A Good Day</td>\n",
       "      <td>1133462530</td>\n",
       "      <td>779830.0</td>\n",
       "    </tr>\n",
       "    <tr>\n",
       "      <th>1969</th>\n",
       "      <td>Band Aid - Do They Know It's Christmas?</td>\n",
       "      <td>564190874</td>\n",
       "      <td>8423.0</td>\n",
       "    </tr>\n",
       "    <tr>\n",
       "      <th>168</th>\n",
       "      <td>Maroon 5 - Maps</td>\n",
       "      <td>1687227627</td>\n",
       "      <td>1231446.0</td>\n",
       "    </tr>\n",
       "  </tbody>\n",
       "</table>\n",
       "</div>"
      ],
      "text/plain": [
       "                               ArtistAndTitle     Streams      Daily\n",
       "2041                    T.I. - Live Your Life   552812799   210353.0\n",
       "600                        Doja Cat - Streets  1061722096   544747.0\n",
       "2461             Matt Sassari - Give It To Me   485213778   947492.0\n",
       "2242                   Quevedo - VISTA AL MAR   514769386   264299.0\n",
       "1972                        Adele - Oh My God   563881935   192033.0\n",
       "2438               Kid Rock - All Summer Long   488415408   343194.0\n",
       "267                       Rihanna - Needed Me  1489897207   736512.0\n",
       "515              Ice Cube - It Was A Good Day  1133462530   779830.0\n",
       "1969  Band Aid - Do They Know It's Christmas?   564190874     8423.0\n",
       "168                           Maroon 5 - Maps  1687227627  1231446.0"
      ]
     },
     "execution_count": 17,
     "metadata": {},
     "output_type": "execute_result"
    }
   ],
   "source": [
    "#Inspected the dataframe visually \n",
    "df_csv.sample(10)"
   ]
  },
  {
   "cell_type": "code",
   "execution_count": 18,
   "metadata": {
    "id": "c8JK4DoXxtFA"
   },
   "outputs": [
    {
     "name": "stdout",
     "output_type": "stream",
     "text": [
      "<class 'pandas.core.frame.DataFrame'>\n",
      "RangeIndex: 2503 entries, 0 to 2502\n",
      "Data columns (total 3 columns):\n",
      " #   Column          Non-Null Count  Dtype  \n",
      "---  ------          --------------  -----  \n",
      " 0   ArtistAndTitle  2503 non-null   object \n",
      " 1   Streams         2503 non-null   int64  \n",
      " 2   Daily           2490 non-null   float64\n",
      "dtypes: float64(1), int64(1), object(1)\n",
      "memory usage: 58.8+ KB\n"
     ]
    }
   ],
   "source": [
    "#Inspecting the dataframe programmatically\n",
    "df_csv.info()"
   ]
  },
  {
   "cell_type": "markdown",
   "metadata": {},
   "source": [
    "Issue and justification: One issue I identified was different value types for data of the same format. The Streams and Daily columns are both whole numbers. When inspecting the data visually using the .sample() function to view a random sample of the data. "
   ]
  },
  {
   "cell_type": "markdown",
   "metadata": {
    "id": "4ffMoRGSwzYj"
   },
   "source": [
    "### Tidiness Issue 2: Multiple variables for a single column"
   ]
  },
  {
   "cell_type": "code",
   "execution_count": 15,
   "metadata": {
    "id": "fleC5rORI0Xl"
   },
   "outputs": [
    {
     "data": {
      "text/html": [
       "<div>\n",
       "<style scoped>\n",
       "    .dataframe tbody tr th:only-of-type {\n",
       "        vertical-align: middle;\n",
       "    }\n",
       "\n",
       "    .dataframe tbody tr th {\n",
       "        vertical-align: top;\n",
       "    }\n",
       "\n",
       "    .dataframe thead th {\n",
       "        text-align: right;\n",
       "    }\n",
       "</style>\n",
       "<table border=\"1\" class=\"dataframe\">\n",
       "  <thead>\n",
       "    <tr style=\"text-align: right;\">\n",
       "      <th></th>\n",
       "      <th>ArtistAndTitle</th>\n",
       "      <th>Streams</th>\n",
       "      <th>Daily</th>\n",
       "    </tr>\n",
       "  </thead>\n",
       "  <tbody>\n",
       "    <tr>\n",
       "      <th>2498</th>\n",
       "      <td>Lil Uzi Vert - Sanguine Paradise</td>\n",
       "      <td>480051104</td>\n",
       "      <td>82257.0</td>\n",
       "    </tr>\n",
       "    <tr>\n",
       "      <th>2499</th>\n",
       "      <td>Taylor Swift - Cruel Summer</td>\n",
       "      <td>2216869138</td>\n",
       "      <td>3276212.0</td>\n",
       "    </tr>\n",
       "    <tr>\n",
       "      <th>2500</th>\n",
       "      <td>Arctic Monkeys - I Wanna Be Yours</td>\n",
       "      <td>2210319883</td>\n",
       "      <td>2432778.0</td>\n",
       "    </tr>\n",
       "    <tr>\n",
       "      <th>2501</th>\n",
       "      <td>J Balvin - In Da Getto</td>\n",
       "      <td>485804630</td>\n",
       "      <td>178010.0</td>\n",
       "    </tr>\n",
       "    <tr>\n",
       "      <th>2502</th>\n",
       "      <td>Tame Impala - New Person, Same Old Mistakes</td>\n",
       "      <td>485715098</td>\n",
       "      <td>331219.0</td>\n",
       "    </tr>\n",
       "  </tbody>\n",
       "</table>\n",
       "</div>"
      ],
      "text/plain": [
       "                                   ArtistAndTitle     Streams      Daily\n",
       "2498             Lil Uzi Vert - Sanguine Paradise   480051104    82257.0\n",
       "2499                  Taylor Swift - Cruel Summer  2216869138  3276212.0\n",
       "2500            Arctic Monkeys - I Wanna Be Yours  2210319883  2432778.0\n",
       "2501                       J Balvin - In Da Getto   485804630   178010.0\n",
       "2502  Tame Impala - New Person, Same Old Mistakes   485715098   331219.0"
      ]
     },
     "execution_count": 15,
     "metadata": {},
     "output_type": "execute_result"
    }
   ],
   "source": [
    "#Inspecting the dataframe visually\n",
    "df_csv.tail()"
   ]
  },
  {
   "cell_type": "code",
   "execution_count": 16,
   "metadata": {
    "id": "BTuQw7Rbsio4"
   },
   "outputs": [
    {
     "name": "stdout",
     "output_type": "stream",
     "text": [
      "<class 'pandas.core.frame.DataFrame'>\n",
      "RangeIndex: 2503 entries, 0 to 2502\n",
      "Data columns (total 3 columns):\n",
      " #   Column          Non-Null Count  Dtype  \n",
      "---  ------          --------------  -----  \n",
      " 0   ArtistAndTitle  2503 non-null   object \n",
      " 1   Streams         2503 non-null   int64  \n",
      " 2   Daily           2490 non-null   float64\n",
      "dtypes: float64(1), int64(1), object(1)\n",
      "memory usage: 58.8+ KB\n"
     ]
    }
   ],
   "source": [
    "#Inspecting the dataframe programmatically\n",
    "df_csv.info()"
   ]
  },
  {
   "cell_type": "markdown",
   "metadata": {},
   "source": [
    "Issue and justification: I inspected the dataset for data tidiness visually using the .tail() function, and programmatically using the XX function. The first tidiness issue I found was that the ArtistAndTitle column contains multiple variables in one column and needs to be separated into different columns. I programmatically used the .info() function to check the data types to verify they were different. I also visually inspected the dataset using the .tail() "
   ]
  },
  {
   "cell_type": "markdown",
   "metadata": {
    "id": "D6gmLnBttpCh"
   },
   "source": [
    "## 3. Clean data\n",
    "Clean the data to solve the 4 issues corresponding to data quality and tidiness found in the assessing step. **Make sure you include justifications for your cleaning decisions.**\n",
    "\n",
    "After the cleaning for each issue, please use **either** the visually or programatical method to validate the cleaning was succesful.\n",
    "\n",
    "At this stage, you are also expected to remove variables that are unnecessary for your analysis and combine your datasets. Depending on your datasets, you may choose to perform variable combination and elimination before or after the cleaning stage. Your dataset must have **at least** 4 variables after combining the data."
   ]
  },
  {
   "cell_type": "code",
   "execution_count": 20,
   "metadata": {},
   "outputs": [],
   "source": [
    "#Make a copy of the first dataset to ensure the raw dataframes are not impacted\n",
    "df_csv_clean = df_csv.copy()\n"
   ]
  },
  {
   "cell_type": "code",
   "execution_count": 19,
   "metadata": {},
   "outputs": [],
   "source": [
    "#Make a copy of the first dataset to ensure the raw dataframes are not impacted\n",
    "df_clean = df.copy()"
   ]
  },
  {
   "cell_type": "markdown",
   "metadata": {
    "id": "FmFhN52Yyn3l"
   },
   "source": [
    "### **Quality Issue 1: Uniqueness**"
   ]
  },
  {
   "cell_type": "code",
   "execution_count": 29,
   "metadata": {
    "id": "9UejDWrNMW4a"
   },
   "outputs": [],
   "source": [
    "#Apply the cleaning strategy to remove duplicates\n",
    "#Remove the values where the duplicates are in the Name and Age columns\n",
    "#By default, drop_duplicates() keep the first occurrence\n",
    "#remove_dup = #df_csv_clean.drop_duplicates(subset=['Name', 'Age'])\n",
    "\n",
    "df_csv_clean.drop_duplicates(subset='ArtistAndTitle',keep='first',inplace=True)\n",
    "df_csv_new = df_csv_clean.duplicated()"
   ]
  },
  {
   "cell_type": "code",
   "execution_count": 30,
   "metadata": {},
   "outputs": [
    {
     "name": "stdout",
     "output_type": "stream",
     "text": [
      "0\n"
     ]
    }
   ],
   "source": [
    "#Validate the cleaning was successful by grabbing a count of duplicates\n",
    "dup_csv_count = df_csv_new.sum()\n",
    "print(dup_csv_count)"
   ]
  },
  {
   "cell_type": "markdown",
   "metadata": {},
   "source": [
    "Justification: Used the .drop_duplicates() method to remove duplicate values. I only need the ArtistAndTitle column to be unique, so the first instance of a duplicate value was kept, while the second instance was deleted from the clean dataframe. "
   ]
  },
  {
   "cell_type": "markdown",
   "metadata": {
    "id": "n_DAUbJrymBL"
   },
   "source": [
    "### **Quality Issue 2: Completeness**"
   ]
  },
  {
   "cell_type": "code",
   "execution_count": 34,
   "metadata": {
    "id": "5Yfb-Yu5MTuE"
   },
   "outputs": [],
   "source": [
    "#Apply the cleaning strategy to replace null values\n",
    "df_csv_clean['Daily'].fillna(\"Unknown\",inplace=True)"
   ]
  },
  {
   "cell_type": "code",
   "execution_count": 35,
   "metadata": {
    "id": "ionB2sRaMUmY"
   },
   "outputs": [
    {
     "data": {
      "text/html": [
       "<div>\n",
       "<style scoped>\n",
       "    .dataframe tbody tr th:only-of-type {\n",
       "        vertical-align: middle;\n",
       "    }\n",
       "\n",
       "    .dataframe tbody tr th {\n",
       "        vertical-align: top;\n",
       "    }\n",
       "\n",
       "    .dataframe thead th {\n",
       "        text-align: right;\n",
       "    }\n",
       "</style>\n",
       "<table border=\"1\" class=\"dataframe\">\n",
       "  <thead>\n",
       "    <tr style=\"text-align: right;\">\n",
       "      <th></th>\n",
       "      <th>ArtistAndTitle</th>\n",
       "      <th>Streams</th>\n",
       "      <th>Daily</th>\n",
       "    </tr>\n",
       "  </thead>\n",
       "  <tbody>\n",
       "    <tr>\n",
       "      <th>0</th>\n",
       "      <td>The Weeknd - Blinding Lights</td>\n",
       "      <td>4297434813</td>\n",
       "      <td>1914133.0</td>\n",
       "    </tr>\n",
       "    <tr>\n",
       "      <th>1</th>\n",
       "      <td>Ed Sheeran - Shape of You</td>\n",
       "      <td>3918746202</td>\n",
       "      <td>1042245.0</td>\n",
       "    </tr>\n",
       "    <tr>\n",
       "      <th>2</th>\n",
       "      <td>Lewis Capaldi - Someone You Loved</td>\n",
       "      <td>3441950617</td>\n",
       "      <td>1615795.0</td>\n",
       "    </tr>\n",
       "    <tr>\n",
       "      <th>3</th>\n",
       "      <td>Post Malone - Sunflower</td>\n",
       "      <td>3373282054</td>\n",
       "      <td>1663595.0</td>\n",
       "    </tr>\n",
       "    <tr>\n",
       "      <th>4</th>\n",
       "      <td>Harry Styles - As It Was</td>\n",
       "      <td>3328502433</td>\n",
       "      <td>3266754.0</td>\n",
       "    </tr>\n",
       "    <tr>\n",
       "      <th>5</th>\n",
       "      <td>The Weeknd - Starboy</td>\n",
       "      <td>3307642948</td>\n",
       "      <td>1799877.0</td>\n",
       "    </tr>\n",
       "    <tr>\n",
       "      <th>6</th>\n",
       "      <td>Drake - One Dance</td>\n",
       "      <td>3205192870</td>\n",
       "      <td>1573581.0</td>\n",
       "    </tr>\n",
       "    <tr>\n",
       "      <th>7</th>\n",
       "      <td>The Kid LAROI - STAY</td>\n",
       "      <td>3121237658</td>\n",
       "      <td>Unknown</td>\n",
       "    </tr>\n",
       "    <tr>\n",
       "      <th>8</th>\n",
       "      <td>Tones And I - Dance Monkey</td>\n",
       "      <td>3076532398</td>\n",
       "      <td>614284.0</td>\n",
       "    </tr>\n",
       "    <tr>\n",
       "      <th>9</th>\n",
       "      <td>Imagine Dragons - Believer</td>\n",
       "      <td>3017873664</td>\n",
       "      <td>1294031.0</td>\n",
       "    </tr>\n",
       "    <tr>\n",
       "      <th>10</th>\n",
       "      <td>Glass Animals - Heat Waves</td>\n",
       "      <td>3011043708</td>\n",
       "      <td>1680510.0</td>\n",
       "    </tr>\n",
       "    <tr>\n",
       "      <th>11</th>\n",
       "      <td>Ed Sheeran - Perfect</td>\n",
       "      <td>2980490428</td>\n",
       "      <td>1151740.0</td>\n",
       "    </tr>\n",
       "    <tr>\n",
       "      <th>12</th>\n",
       "      <td>Post Malone - rockstar</td>\n",
       "      <td>2966165489</td>\n",
       "      <td>707646.0</td>\n",
       "    </tr>\n",
       "    <tr>\n",
       "      <th>13</th>\n",
       "      <td>The Neighbourhood - Sweater Weather</td>\n",
       "      <td>2940345447</td>\n",
       "      <td>2711122.0</td>\n",
       "    </tr>\n",
       "    <tr>\n",
       "      <th>14</th>\n",
       "      <td>The Chainsmokers - Closer</td>\n",
       "      <td>2890429010</td>\n",
       "      <td>1108245.0</td>\n",
       "    </tr>\n",
       "    <tr>\n",
       "      <th>15</th>\n",
       "      <td>James Arthur - Say You Won't Let Go</td>\n",
       "      <td>2845046651</td>\n",
       "      <td>1511564.0</td>\n",
       "    </tr>\n",
       "    <tr>\n",
       "      <th>16</th>\n",
       "      <td>Billie Eilish - lovely</td>\n",
       "      <td>2838952919</td>\n",
       "      <td>1373205.0</td>\n",
       "    </tr>\n",
       "    <tr>\n",
       "      <th>17</th>\n",
       "      <td>Shawn Mendes - Señorita</td>\n",
       "      <td>2745321980</td>\n",
       "      <td>818297.0</td>\n",
       "    </tr>\n",
       "    <tr>\n",
       "      <th>18</th>\n",
       "      <td>Harry Styles - Watermelon Sugar</td>\n",
       "      <td>2722219852</td>\n",
       "      <td>1797201.0</td>\n",
       "    </tr>\n",
       "    <tr>\n",
       "      <th>19</th>\n",
       "      <td>Dua Lipa - Don't Start Now</td>\n",
       "      <td>2617746118</td>\n",
       "      <td>1288610.0</td>\n",
       "    </tr>\n",
       "  </tbody>\n",
       "</table>\n",
       "</div>"
      ],
      "text/plain": [
       "                         ArtistAndTitle     Streams      Daily\n",
       "0          The Weeknd - Blinding Lights  4297434813  1914133.0\n",
       "1             Ed Sheeran - Shape of You  3918746202  1042245.0\n",
       "2     Lewis Capaldi - Someone You Loved  3441950617  1615795.0\n",
       "3               Post Malone - Sunflower  3373282054  1663595.0\n",
       "4              Harry Styles - As It Was  3328502433  3266754.0\n",
       "5                  The Weeknd - Starboy  3307642948  1799877.0\n",
       "6                     Drake - One Dance  3205192870  1573581.0\n",
       "7                  The Kid LAROI - STAY  3121237658    Unknown\n",
       "8            Tones And I - Dance Monkey  3076532398   614284.0\n",
       "9            Imagine Dragons - Believer  3017873664  1294031.0\n",
       "10           Glass Animals - Heat Waves  3011043708  1680510.0\n",
       "11                 Ed Sheeran - Perfect  2980490428  1151740.0\n",
       "12               Post Malone - rockstar  2966165489   707646.0\n",
       "13  The Neighbourhood - Sweater Weather  2940345447  2711122.0\n",
       "14            The Chainsmokers - Closer  2890429010  1108245.0\n",
       "15  James Arthur - Say You Won't Let Go  2845046651  1511564.0\n",
       "16               Billie Eilish - lovely  2838952919  1373205.0\n",
       "17              Shawn Mendes - Señorita  2745321980   818297.0\n",
       "18      Harry Styles - Watermelon Sugar  2722219852  1797201.0\n",
       "19           Dua Lipa - Don't Start Now  2617746118  1288610.0"
      ]
     },
     "execution_count": 35,
     "metadata": {},
     "output_type": "execute_result"
    }
   ],
   "source": [
    "#Validate the cleaning was successful\n",
    "df_csv_clean.head(20)"
   ]
  },
  {
   "cell_type": "markdown",
   "metadata": {},
   "source": [
    "Justification: The Daily column had some values missing. I wanted these missing values to display as unknown. Used the .fillna() method to replace null values with the keyword \"unknown\". "
   ]
  },
  {
   "cell_type": "markdown",
   "metadata": {
    "id": "bIUrrfSNyOPR"
   },
   "source": [
    "### **Tidiness Issue 1: Different value types for data of the same format**"
   ]
  },
  {
   "cell_type": "code",
   "execution_count": 43,
   "metadata": {
    "id": "7zW8O5yx4Y9O"
   },
   "outputs": [
    {
     "ename": "KeyError",
     "evalue": "\"['Streams', 'Daily'] not found in axis\"",
     "output_type": "error",
     "traceback": [
      "\u001b[0;31m---------------------------------------------------------------------------\u001b[0m",
      "\u001b[0;31mKeyError\u001b[0m                                  Traceback (most recent call last)",
      "Cell \u001b[0;32mIn[43], line 4\u001b[0m\n\u001b[1;32m      1\u001b[0m \u001b[38;5;66;03m#FILL IN - Apply the cleaning strategy to remove the Streams and Daily columns\u001b[39;00m\n\u001b[1;32m      2\u001b[0m \u001b[38;5;66;03m#FILL IN - Apply the cleaning strategy by dropping columns\u001b[39;00m\n\u001b[1;32m      3\u001b[0m \u001b[38;5;66;03m#Drop an entire column when almost all of the values (such as 95-98% of values) are missing in a column. You can use df.drop('COLUMN_NAME', axis=1).\u001b[39;00m\n\u001b[0;32m----> 4\u001b[0m \u001b[43mdf_csv_clean\u001b[49m\u001b[38;5;241;43m.\u001b[39;49m\u001b[43mdrop\u001b[49m\u001b[43m(\u001b[49m\u001b[43m[\u001b[49m\u001b[38;5;124;43m'\u001b[39;49m\u001b[38;5;124;43mStreams\u001b[39;49m\u001b[38;5;124;43m'\u001b[39;49m\u001b[43m,\u001b[49m\u001b[38;5;124;43m'\u001b[39;49m\u001b[38;5;124;43mDaily\u001b[39;49m\u001b[38;5;124;43m'\u001b[39;49m\u001b[43m]\u001b[49m\u001b[43m,\u001b[49m\u001b[43maxis\u001b[49m\u001b[38;5;241;43m=\u001b[39;49m\u001b[38;5;241;43m1\u001b[39;49m\u001b[43m,\u001b[49m\u001b[43m \u001b[49m\u001b[43minplace\u001b[49m\u001b[38;5;241;43m=\u001b[39;49m\u001b[38;5;28;43;01mTrue\u001b[39;49;00m\u001b[43m)\u001b[49m\n",
      "File \u001b[0;32m/workspace/pandas/core/frame.py:5581\u001b[0m, in \u001b[0;36mDataFrame.drop\u001b[0;34m(self, labels, axis, index, columns, level, inplace, errors)\u001b[0m\n\u001b[1;32m   5433\u001b[0m \u001b[38;5;28;01mdef\u001b[39;00m \u001b[38;5;21mdrop\u001b[39m(\n\u001b[1;32m   5434\u001b[0m     \u001b[38;5;28mself\u001b[39m,\n\u001b[1;32m   5435\u001b[0m     labels: IndexLabel \u001b[38;5;241m|\u001b[39m \u001b[38;5;28;01mNone\u001b[39;00m \u001b[38;5;241m=\u001b[39m \u001b[38;5;28;01mNone\u001b[39;00m,\n\u001b[0;32m   (...)\u001b[0m\n\u001b[1;32m   5442\u001b[0m     errors: IgnoreRaise \u001b[38;5;241m=\u001b[39m \u001b[38;5;124m\"\u001b[39m\u001b[38;5;124mraise\u001b[39m\u001b[38;5;124m\"\u001b[39m,\n\u001b[1;32m   5443\u001b[0m ) \u001b[38;5;241m-\u001b[39m\u001b[38;5;241m>\u001b[39m DataFrame \u001b[38;5;241m|\u001b[39m \u001b[38;5;28;01mNone\u001b[39;00m:\n\u001b[1;32m   5444\u001b[0m \u001b[38;5;250m    \u001b[39m\u001b[38;5;124;03m\"\"\"\u001b[39;00m\n\u001b[1;32m   5445\u001b[0m \u001b[38;5;124;03m    Drop specified labels from rows or columns.\u001b[39;00m\n\u001b[1;32m   5446\u001b[0m \n\u001b[0;32m   (...)\u001b[0m\n\u001b[1;32m   5579\u001b[0m \u001b[38;5;124;03m            weight  1.0     0.8\u001b[39;00m\n\u001b[1;32m   5580\u001b[0m \u001b[38;5;124;03m    \"\"\"\u001b[39;00m\n\u001b[0;32m-> 5581\u001b[0m     \u001b[38;5;28;01mreturn\u001b[39;00m \u001b[38;5;28;43msuper\u001b[39;49m\u001b[43m(\u001b[49m\u001b[43m)\u001b[49m\u001b[38;5;241;43m.\u001b[39;49m\u001b[43mdrop\u001b[49m\u001b[43m(\u001b[49m\n\u001b[1;32m   5582\u001b[0m \u001b[43m        \u001b[49m\u001b[43mlabels\u001b[49m\u001b[38;5;241;43m=\u001b[39;49m\u001b[43mlabels\u001b[49m\u001b[43m,\u001b[49m\n\u001b[1;32m   5583\u001b[0m \u001b[43m        \u001b[49m\u001b[43maxis\u001b[49m\u001b[38;5;241;43m=\u001b[39;49m\u001b[43maxis\u001b[49m\u001b[43m,\u001b[49m\n\u001b[1;32m   5584\u001b[0m \u001b[43m        \u001b[49m\u001b[43mindex\u001b[49m\u001b[38;5;241;43m=\u001b[39;49m\u001b[43mindex\u001b[49m\u001b[43m,\u001b[49m\n\u001b[1;32m   5585\u001b[0m \u001b[43m        \u001b[49m\u001b[43mcolumns\u001b[49m\u001b[38;5;241;43m=\u001b[39;49m\u001b[43mcolumns\u001b[49m\u001b[43m,\u001b[49m\n\u001b[1;32m   5586\u001b[0m \u001b[43m        \u001b[49m\u001b[43mlevel\u001b[49m\u001b[38;5;241;43m=\u001b[39;49m\u001b[43mlevel\u001b[49m\u001b[43m,\u001b[49m\n\u001b[1;32m   5587\u001b[0m \u001b[43m        \u001b[49m\u001b[43minplace\u001b[49m\u001b[38;5;241;43m=\u001b[39;49m\u001b[43minplace\u001b[49m\u001b[43m,\u001b[49m\n\u001b[1;32m   5588\u001b[0m \u001b[43m        \u001b[49m\u001b[43merrors\u001b[49m\u001b[38;5;241;43m=\u001b[39;49m\u001b[43merrors\u001b[49m\u001b[43m,\u001b[49m\n\u001b[1;32m   5589\u001b[0m \u001b[43m    \u001b[49m\u001b[43m)\u001b[49m\n",
      "File \u001b[0;32m/workspace/pandas/core/generic.py:4788\u001b[0m, in \u001b[0;36mNDFrame.drop\u001b[0;34m(self, labels, axis, index, columns, level, inplace, errors)\u001b[0m\n\u001b[1;32m   4786\u001b[0m \u001b[38;5;28;01mfor\u001b[39;00m axis, labels \u001b[38;5;129;01min\u001b[39;00m axes\u001b[38;5;241m.\u001b[39mitems():\n\u001b[1;32m   4787\u001b[0m     \u001b[38;5;28;01mif\u001b[39;00m labels \u001b[38;5;129;01mis\u001b[39;00m \u001b[38;5;129;01mnot\u001b[39;00m \u001b[38;5;28;01mNone\u001b[39;00m:\n\u001b[0;32m-> 4788\u001b[0m         obj \u001b[38;5;241m=\u001b[39m \u001b[43mobj\u001b[49m\u001b[38;5;241;43m.\u001b[39;49m\u001b[43m_drop_axis\u001b[49m\u001b[43m(\u001b[49m\u001b[43mlabels\u001b[49m\u001b[43m,\u001b[49m\u001b[43m \u001b[49m\u001b[43maxis\u001b[49m\u001b[43m,\u001b[49m\u001b[43m \u001b[49m\u001b[43mlevel\u001b[49m\u001b[38;5;241;43m=\u001b[39;49m\u001b[43mlevel\u001b[49m\u001b[43m,\u001b[49m\u001b[43m \u001b[49m\u001b[43merrors\u001b[49m\u001b[38;5;241;43m=\u001b[39;49m\u001b[43merrors\u001b[49m\u001b[43m)\u001b[49m\n\u001b[1;32m   4790\u001b[0m \u001b[38;5;28;01mif\u001b[39;00m inplace:\n\u001b[1;32m   4791\u001b[0m     \u001b[38;5;28mself\u001b[39m\u001b[38;5;241m.\u001b[39m_update_inplace(obj)\n",
      "File \u001b[0;32m/workspace/pandas/core/generic.py:4830\u001b[0m, in \u001b[0;36mNDFrame._drop_axis\u001b[0;34m(self, labels, axis, level, errors, only_slice)\u001b[0m\n\u001b[1;32m   4828\u001b[0m         new_axis \u001b[38;5;241m=\u001b[39m axis\u001b[38;5;241m.\u001b[39mdrop(labels, level\u001b[38;5;241m=\u001b[39mlevel, errors\u001b[38;5;241m=\u001b[39merrors)\n\u001b[1;32m   4829\u001b[0m     \u001b[38;5;28;01melse\u001b[39;00m:\n\u001b[0;32m-> 4830\u001b[0m         new_axis \u001b[38;5;241m=\u001b[39m \u001b[43maxis\u001b[49m\u001b[38;5;241;43m.\u001b[39;49m\u001b[43mdrop\u001b[49m\u001b[43m(\u001b[49m\u001b[43mlabels\u001b[49m\u001b[43m,\u001b[49m\u001b[43m \u001b[49m\u001b[43merrors\u001b[49m\u001b[38;5;241;43m=\u001b[39;49m\u001b[43merrors\u001b[49m\u001b[43m)\u001b[49m\n\u001b[1;32m   4831\u001b[0m     indexer \u001b[38;5;241m=\u001b[39m axis\u001b[38;5;241m.\u001b[39mget_indexer(new_axis)\n\u001b[1;32m   4833\u001b[0m \u001b[38;5;66;03m# Case for non-unique axis\u001b[39;00m\n\u001b[1;32m   4834\u001b[0m \u001b[38;5;28;01melse\u001b[39;00m:\n",
      "File \u001b[0;32m/workspace/pandas/core/indexes/base.py:7070\u001b[0m, in \u001b[0;36mIndex.drop\u001b[0;34m(self, labels, errors)\u001b[0m\n\u001b[1;32m   7068\u001b[0m \u001b[38;5;28;01mif\u001b[39;00m mask\u001b[38;5;241m.\u001b[39many():\n\u001b[1;32m   7069\u001b[0m     \u001b[38;5;28;01mif\u001b[39;00m errors \u001b[38;5;241m!=\u001b[39m \u001b[38;5;124m\"\u001b[39m\u001b[38;5;124mignore\u001b[39m\u001b[38;5;124m\"\u001b[39m:\n\u001b[0;32m-> 7070\u001b[0m         \u001b[38;5;28;01mraise\u001b[39;00m \u001b[38;5;167;01mKeyError\u001b[39;00m(\u001b[38;5;124mf\u001b[39m\u001b[38;5;124m\"\u001b[39m\u001b[38;5;132;01m{\u001b[39;00mlabels[mask]\u001b[38;5;241m.\u001b[39mtolist()\u001b[38;5;132;01m}\u001b[39;00m\u001b[38;5;124m not found in axis\u001b[39m\u001b[38;5;124m\"\u001b[39m)\n\u001b[1;32m   7071\u001b[0m     indexer \u001b[38;5;241m=\u001b[39m indexer[\u001b[38;5;241m~\u001b[39mmask]\n\u001b[1;32m   7072\u001b[0m \u001b[38;5;28;01mreturn\u001b[39;00m \u001b[38;5;28mself\u001b[39m\u001b[38;5;241m.\u001b[39mdelete(indexer)\n",
      "\u001b[0;31mKeyError\u001b[0m: \"['Streams', 'Daily'] not found in axis\""
     ]
    }
   ],
   "source": [
    "#FILL IN - Apply the cleaning strategy to remove the Streams and Daily columns\n",
    "#FILL IN - Apply the cleaning strategy by dropping columns\n",
    "#Drop an entire column when almost all of the values (such as 95-98% of values) are missing in a column. You can use df.drop('COLUMN_NAME', axis=1).\n",
    "df_csv_clean.drop(['Streams','Daily'],axis=1, inplace=True)"
   ]
  },
  {
   "cell_type": "code",
   "execution_count": 44,
   "metadata": {
    "id": "yhrnUGY_Nk8B"
   },
   "outputs": [
    {
     "name": "stdout",
     "output_type": "stream",
     "text": [
      "                                      ArtistAndTitle\n",
      "0                       The Weeknd - Blinding Lights\n",
      "1                          Ed Sheeran - Shape of You\n",
      "2                  Lewis Capaldi - Someone You Loved\n",
      "3                            Post Malone - Sunflower\n",
      "4                           Harry Styles - As It Was\n",
      "...                                              ...\n",
      "2494                          Bad Bunny - Solo de Mi\n",
      "2495                   Ludovico Einaudi - Experience\n",
      "2496        Los Ángeles Azules - Nunca Es Suficiente\n",
      "2497  JVKE - this is what falling in love feels like\n",
      "2498                Lil Uzi Vert - Sanguine Paradise\n",
      "\n",
      "[2477 rows x 1 columns]\n"
     ]
    }
   ],
   "source": [
    "#FILL IN - Validate the cleaning was successful\n",
    "print(df_csv_clean)"
   ]
  },
  {
   "cell_type": "markdown",
   "metadata": {},
   "source": [
    "Justification: These columns are not needed for the final output and therefore should be removed from the dataset. "
   ]
  },
  {
   "cell_type": "markdown",
   "metadata": {
    "id": "o51Bt8kwyTzk"
   },
   "source": [
    "### **Tidiness Issue 2: Multiple variables for a single column**"
   ]
  },
  {
   "cell_type": "code",
   "execution_count": 82,
   "metadata": {
    "id": "fib0zAm333bn"
   },
   "outputs": [],
   "source": [
    "#Apply the cleaning strategy to separate the ArtistAndTitle into two columns\n",
    "df_csv_clean_final = df_csv_clean['ArtistAndTitle'].str.rsplit(\" - \", n=1, expand=True)"
   ]
  },
  {
   "cell_type": "code",
   "execution_count": 83,
   "metadata": {},
   "outputs": [],
   "source": [
    "#Rename the new separated columns\n",
    "df_csv_cleaned = df_csv_clean_final.rename(columns={0:'Artist',1:'Song'})"
   ]
  },
  {
   "cell_type": "code",
   "execution_count": 84,
   "metadata": {
    "id": "q6I_Sr7lxXi5"
   },
   "outputs": [
    {
     "data": {
      "text/html": [
       "<div>\n",
       "<style scoped>\n",
       "    .dataframe tbody tr th:only-of-type {\n",
       "        vertical-align: middle;\n",
       "    }\n",
       "\n",
       "    .dataframe tbody tr th {\n",
       "        vertical-align: top;\n",
       "    }\n",
       "\n",
       "    .dataframe thead th {\n",
       "        text-align: right;\n",
       "    }\n",
       "</style>\n",
       "<table border=\"1\" class=\"dataframe\">\n",
       "  <thead>\n",
       "    <tr style=\"text-align: right;\">\n",
       "      <th></th>\n",
       "      <th>Artist</th>\n",
       "      <th>Song</th>\n",
       "    </tr>\n",
       "  </thead>\n",
       "  <tbody>\n",
       "    <tr>\n",
       "      <th>0</th>\n",
       "      <td>The Weeknd</td>\n",
       "      <td>Blinding Lights</td>\n",
       "    </tr>\n",
       "    <tr>\n",
       "      <th>1</th>\n",
       "      <td>Ed Sheeran</td>\n",
       "      <td>Shape of You</td>\n",
       "    </tr>\n",
       "    <tr>\n",
       "      <th>2</th>\n",
       "      <td>Lewis Capaldi</td>\n",
       "      <td>Someone You Loved</td>\n",
       "    </tr>\n",
       "    <tr>\n",
       "      <th>3</th>\n",
       "      <td>Post Malone</td>\n",
       "      <td>Sunflower</td>\n",
       "    </tr>\n",
       "    <tr>\n",
       "      <th>4</th>\n",
       "      <td>Harry Styles</td>\n",
       "      <td>As It Was</td>\n",
       "    </tr>\n",
       "    <tr>\n",
       "      <th>...</th>\n",
       "      <td>...</td>\n",
       "      <td>...</td>\n",
       "    </tr>\n",
       "    <tr>\n",
       "      <th>105</th>\n",
       "      <td>Shawn Mendes</td>\n",
       "      <td>Stitches</td>\n",
       "    </tr>\n",
       "    <tr>\n",
       "      <th>106</th>\n",
       "      <td>Coldplay</td>\n",
       "      <td>The Scientist</td>\n",
       "    </tr>\n",
       "    <tr>\n",
       "      <th>107</th>\n",
       "      <td>a-ha</td>\n",
       "      <td>Take on Me</td>\n",
       "    </tr>\n",
       "    <tr>\n",
       "      <th>108</th>\n",
       "      <td>Lil Nas X</td>\n",
       "      <td>MONTERO (Call Me By Your Name)</td>\n",
       "    </tr>\n",
       "    <tr>\n",
       "      <th>109</th>\n",
       "      <td>Wiz Khalifa</td>\n",
       "      <td>See You Again</td>\n",
       "    </tr>\n",
       "  </tbody>\n",
       "</table>\n",
       "<p>110 rows × 2 columns</p>\n",
       "</div>"
      ],
      "text/plain": [
       "            Artist                            Song\n",
       "0       The Weeknd                 Blinding Lights\n",
       "1       Ed Sheeran                    Shape of You\n",
       "2    Lewis Capaldi               Someone You Loved\n",
       "3      Post Malone                       Sunflower\n",
       "4     Harry Styles                       As It Was\n",
       "..             ...                             ...\n",
       "105   Shawn Mendes                        Stitches\n",
       "106       Coldplay                   The Scientist\n",
       "107           a-ha                      Take on Me\n",
       "108      Lil Nas X  MONTERO (Call Me By Your Name)\n",
       "109    Wiz Khalifa                   See You Again\n",
       "\n",
       "[110 rows x 2 columns]"
      ]
     },
     "execution_count": 84,
     "metadata": {},
     "output_type": "execute_result"
    }
   ],
   "source": [
    "#Validate the cleaning was successful\n",
    "df_csv_cleaned.head(110)"
   ]
  },
  {
   "cell_type": "markdown",
   "metadata": {},
   "source": [
    "Justification: The ArtistAndTable column contained multiple variables in a single column. These fields will be used to join to the other dataset later, so it needed to be split into separate columns. The method used was to ensure we split the column by the last - because there are some artist names that had a - in them."
   ]
  },
  {
   "cell_type": "markdown",
   "metadata": {},
   "source": [
    "### **Remove unnecessary variables and combine datasets**\n",
    "\n",
    "Depending on the datasets, you can also peform the combination before the cleaning steps."
   ]
  },
  {
   "cell_type": "code",
   "execution_count": null,
   "metadata": {},
   "outputs": [],
   "source": [
    "#FILL IN - Remove unnecessary variables and combine datasets\n",
    "#merge\n",
    "#merged = pd.merge(df_csv_clean ,df_clean) -- this is an inner join\n",
    "#merged.head(10)\n",
    "#ehf here is a group by example: groupbyex = merged.groupby('column name',sort=False,)['column name to aggregate'].agg(['sum','mean'])"
   ]
  },
  {
   "cell_type": "code",
   "execution_count": 85,
   "metadata": {},
   "outputs": [
    {
     "data": {
      "text/html": [
       "<div>\n",
       "<style scoped>\n",
       "    .dataframe tbody tr th:only-of-type {\n",
       "        vertical-align: middle;\n",
       "    }\n",
       "\n",
       "    .dataframe tbody tr th {\n",
       "        vertical-align: top;\n",
       "    }\n",
       "\n",
       "    .dataframe thead th {\n",
       "        text-align: right;\n",
       "    }\n",
       "</style>\n",
       "<table border=\"1\" class=\"dataframe\">\n",
       "  <thead>\n",
       "    <tr style=\"text-align: right;\">\n",
       "      <th></th>\n",
       "      <th>Artist</th>\n",
       "      <th>Song</th>\n",
       "      <th>Count</th>\n",
       "    </tr>\n",
       "  </thead>\n",
       "  <tbody>\n",
       "    <tr>\n",
       "      <th>0</th>\n",
       "      <td>The Weeknd</td>\n",
       "      <td>Blinding Lights</td>\n",
       "      <td>1</td>\n",
       "    </tr>\n",
       "    <tr>\n",
       "      <th>1</th>\n",
       "      <td>Ed Sheeran</td>\n",
       "      <td>Shape of You</td>\n",
       "      <td>1</td>\n",
       "    </tr>\n",
       "    <tr>\n",
       "      <th>2</th>\n",
       "      <td>Lewis Capaldi</td>\n",
       "      <td>Someone You Loved</td>\n",
       "      <td>1</td>\n",
       "    </tr>\n",
       "    <tr>\n",
       "      <th>3</th>\n",
       "      <td>Post Malone</td>\n",
       "      <td>Sunflower</td>\n",
       "      <td>1</td>\n",
       "    </tr>\n",
       "    <tr>\n",
       "      <th>4</th>\n",
       "      <td>Harry Styles</td>\n",
       "      <td>As It Was</td>\n",
       "      <td>1</td>\n",
       "    </tr>\n",
       "  </tbody>\n",
       "</table>\n",
       "</div>"
      ],
      "text/plain": [
       "          Artist               Song  Count\n",
       "0     The Weeknd    Blinding Lights      1\n",
       "1     Ed Sheeran       Shape of You      1\n",
       "2  Lewis Capaldi  Someone You Loved      1\n",
       "3    Post Malone          Sunflower      1\n",
       "4   Harry Styles          As It Was      1"
      ]
     },
     "execution_count": 85,
     "metadata": {},
     "output_type": "execute_result"
    }
   ],
   "source": [
    "#All unnecessary variables have been resolved in the data cleaning and tidiness steps\n",
    "#Adding a count column to track song counts \n",
    "df_csv_cleaned['Count'] = 1\n",
    "df_csv_cleaned.head()"
   ]
  },
  {
   "cell_type": "code",
   "execution_count": 91,
   "metadata": {},
   "outputs": [
    {
     "data": {
      "text/html": [
       "<div>\n",
       "<style scoped>\n",
       "    .dataframe tbody tr th:only-of-type {\n",
       "        vertical-align: middle;\n",
       "    }\n",
       "\n",
       "    .dataframe tbody tr th {\n",
       "        vertical-align: top;\n",
       "    }\n",
       "\n",
       "    .dataframe thead th {\n",
       "        text-align: right;\n",
       "    }\n",
       "</style>\n",
       "<table border=\"1\" class=\"dataframe\">\n",
       "  <thead>\n",
       "    <tr style=\"text-align: right;\">\n",
       "      <th></th>\n",
       "      <th>Count</th>\n",
       "    </tr>\n",
       "    <tr>\n",
       "      <th>Artist</th>\n",
       "      <th></th>\n",
       "    </tr>\n",
       "  </thead>\n",
       "  <tbody>\n",
       "    <tr>\n",
       "      <th>2Pac</th>\n",
       "      <td>5</td>\n",
       "    </tr>\n",
       "    <tr>\n",
       "      <th>50 Cent</th>\n",
       "      <td>6</td>\n",
       "    </tr>\n",
       "    <tr>\n",
       "      <th>ABBA</th>\n",
       "      <td>3</td>\n",
       "    </tr>\n",
       "    <tr>\n",
       "      <th>AC/DC</th>\n",
       "      <td>5</td>\n",
       "    </tr>\n",
       "    <tr>\n",
       "      <th>Adele</th>\n",
       "      <td>14</td>\n",
       "    </tr>\n",
       "    <tr>\n",
       "      <th>...</th>\n",
       "      <td>...</td>\n",
       "    </tr>\n",
       "    <tr>\n",
       "      <th>U2</th>\n",
       "      <td>12</td>\n",
       "    </tr>\n",
       "    <tr>\n",
       "      <th>Van Halen</th>\n",
       "      <td>1</td>\n",
       "    </tr>\n",
       "    <tr>\n",
       "      <th>Van Morrison</th>\n",
       "      <td>1</td>\n",
       "    </tr>\n",
       "    <tr>\n",
       "      <th>Weezer</th>\n",
       "      <td>2</td>\n",
       "    </tr>\n",
       "    <tr>\n",
       "      <th>Whitney Houston</th>\n",
       "      <td>4</td>\n",
       "    </tr>\n",
       "  </tbody>\n",
       "</table>\n",
       "<p>138 rows × 1 columns</p>\n",
       "</div>"
      ],
      "text/plain": [
       "                 Count\n",
       "Artist                \n",
       "2Pac                 5\n",
       "50 Cent              6\n",
       "ABBA                 3\n",
       "AC/DC                5\n",
       "Adele               14\n",
       "...                ...\n",
       "U2                  12\n",
       "Van Halen            1\n",
       "Van Morrison         1\n",
       "Weezer               2\n",
       "Whitney Houston      4\n",
       "\n",
       "[138 rows x 1 columns]"
      ]
     },
     "execution_count": 91,
     "metadata": {},
     "output_type": "execute_result"
    }
   ],
   "source": [
    "#merge1 = df_clean({'Rank','Artist','Song','Year'})\n",
    "#merge2= df_csv_cleaned({'Artist','Song', sum('Count')})\n",
    "mergeddf_artist = pd.merge(df_clean, df_csv_cleaned, on=['Artist'],how='inner')\n",
    "artistcount = mergeddf_artist.groupby('Artist').sum('Count')\n",
    "artistcount.head(150)"
   ]
  },
  {
   "cell_type": "code",
   "execution_count": 92,
   "metadata": {},
   "outputs": [
    {
     "data": {
      "text/html": [
       "<div>\n",
       "<style scoped>\n",
       "    .dataframe tbody tr th:only-of-type {\n",
       "        vertical-align: middle;\n",
       "    }\n",
       "\n",
       "    .dataframe tbody tr th {\n",
       "        vertical-align: top;\n",
       "    }\n",
       "\n",
       "    .dataframe thead th {\n",
       "        text-align: right;\n",
       "    }\n",
       "</style>\n",
       "<table border=\"1\" class=\"dataframe\">\n",
       "  <thead>\n",
       "    <tr style=\"text-align: right;\">\n",
       "      <th></th>\n",
       "      <th>Rank</th>\n",
       "      <th>Song</th>\n",
       "      <th>Artist_x</th>\n",
       "      <th>Year</th>\n",
       "      <th>Artist_y</th>\n",
       "      <th>Count</th>\n",
       "    </tr>\n",
       "  </thead>\n",
       "  <tbody>\n",
       "    <tr>\n",
       "      <th>0</th>\n",
       "      <td>500</td>\n",
       "      <td>Stronger</td>\n",
       "      <td>Kanye West</td>\n",
       "      <td>2007</td>\n",
       "      <td>Kanye West</td>\n",
       "      <td>1</td>\n",
       "    </tr>\n",
       "    <tr>\n",
       "      <th>1</th>\n",
       "      <td>497</td>\n",
       "      <td>Truth Hurts</td>\n",
       "      <td>Lizzo</td>\n",
       "      <td>2017</td>\n",
       "      <td>Lizzo</td>\n",
       "      <td>1</td>\n",
       "    </tr>\n",
       "    <tr>\n",
       "      <th>2</th>\n",
       "      <td>496</td>\n",
       "      <td>Without You</td>\n",
       "      <td>Harry Nilsson</td>\n",
       "      <td>1971</td>\n",
       "      <td>Avicii</td>\n",
       "      <td>1</td>\n",
       "    </tr>\n",
       "    <tr>\n",
       "      <th>3</th>\n",
       "      <td>495</td>\n",
       "      <td>You're So Vain</td>\n",
       "      <td>Carly Simon</td>\n",
       "      <td>1972</td>\n",
       "      <td>Carly Simon</td>\n",
       "      <td>1</td>\n",
       "    </tr>\n",
       "    <tr>\n",
       "      <th>4</th>\n",
       "      <td>494</td>\n",
       "      <td>Time After Time</td>\n",
       "      <td>Cyndi Lauper</td>\n",
       "      <td>1983</td>\n",
       "      <td>Cyndi Lauper</td>\n",
       "      <td>1</td>\n",
       "    </tr>\n",
       "    <tr>\n",
       "      <th>...</th>\n",
       "      <td>...</td>\n",
       "      <td>...</td>\n",
       "      <td>...</td>\n",
       "      <td>...</td>\n",
       "      <td>...</td>\n",
       "      <td>...</td>\n",
       "    </tr>\n",
       "    <tr>\n",
       "      <th>134</th>\n",
       "      <td>12</td>\n",
       "      <td>Superstition</td>\n",
       "      <td>Stevie Wonder</td>\n",
       "      <td>1972</td>\n",
       "      <td>Stevie Wonder</td>\n",
       "      <td>1</td>\n",
       "    </tr>\n",
       "    <tr>\n",
       "      <th>135</th>\n",
       "      <td>10</td>\n",
       "      <td>Hey Ya!</td>\n",
       "      <td>Outkast</td>\n",
       "      <td>2003</td>\n",
       "      <td>Outkast</td>\n",
       "      <td>1</td>\n",
       "    </tr>\n",
       "    <tr>\n",
       "      <th>136</th>\n",
       "      <td>9</td>\n",
       "      <td>Dreams</td>\n",
       "      <td>Fleetwood Mac</td>\n",
       "      <td>1977</td>\n",
       "      <td>Fleetwood Mac</td>\n",
       "      <td>1</td>\n",
       "    </tr>\n",
       "    <tr>\n",
       "      <th>137</th>\n",
       "      <td>5</td>\n",
       "      <td>Smells Like Teen Spirit</td>\n",
       "      <td>Nirvana</td>\n",
       "      <td>1991</td>\n",
       "      <td>Nirvana</td>\n",
       "      <td>1</td>\n",
       "    </tr>\n",
       "    <tr>\n",
       "      <th>138</th>\n",
       "      <td>1</td>\n",
       "      <td>Respect</td>\n",
       "      <td>Aretha Franklin</td>\n",
       "      <td>1967</td>\n",
       "      <td>Aretha Franklin</td>\n",
       "      <td>1</td>\n",
       "    </tr>\n",
       "  </tbody>\n",
       "</table>\n",
       "<p>139 rows × 6 columns</p>\n",
       "</div>"
      ],
      "text/plain": [
       "    Rank                     Song         Artist_x  Year         Artist_y  \\\n",
       "0    500                 Stronger       Kanye West  2007       Kanye West   \n",
       "1    497              Truth Hurts            Lizzo  2017            Lizzo   \n",
       "2    496              Without You    Harry Nilsson  1971           Avicii   \n",
       "3    495           You're So Vain      Carly Simon  1972      Carly Simon   \n",
       "4    494          Time After Time     Cyndi Lauper  1983     Cyndi Lauper   \n",
       "..   ...                      ...              ...   ...              ...   \n",
       "134   12             Superstition    Stevie Wonder  1972    Stevie Wonder   \n",
       "135   10                  Hey Ya!          Outkast  2003          Outkast   \n",
       "136    9                   Dreams    Fleetwood Mac  1977    Fleetwood Mac   \n",
       "137    5  Smells Like Teen Spirit          Nirvana  1991          Nirvana   \n",
       "138    1                  Respect  Aretha Franklin  1967  Aretha Franklin   \n",
       "\n",
       "     Count  \n",
       "0        1  \n",
       "1        1  \n",
       "2        1  \n",
       "3        1  \n",
       "4        1  \n",
       "..     ...  \n",
       "134      1  \n",
       "135      1  \n",
       "136      1  \n",
       "137      1  \n",
       "138      1  \n",
       "\n",
       "[139 rows x 6 columns]"
      ]
     },
     "execution_count": 92,
     "metadata": {},
     "output_type": "execute_result"
    }
   ],
   "source": [
    "mergeddf_song = pd.merge(df_clean, df_csv_cleaned, on=['Song'],how='inner')\n",
    "mergeddf_song.head(150)"
   ]
  },
  {
   "cell_type": "markdown",
   "metadata": {
    "id": "F42urHuzttjF"
   },
   "source": [
    "## 4. Update your data store\n",
    "Update your local database/data store with the cleaned data, following best practices for storing your cleaned data:\n",
    "\n",
    "- Must maintain different instances / versions of data (raw and cleaned data)\n",
    "- Must name the dataset files informatively\n",
    "- Ensure both the raw and cleaned data is saved to your database/data store"
   ]
  },
  {
   "cell_type": "code",
   "execution_count": 93,
   "metadata": {
    "id": "V3uay7EJUV_L"
   },
   "outputs": [],
   "source": [
    "#Saving the data frames to csv\n",
    "mergeddf_song.to_csv('clean_song_count.csv')\n",
    "artistcount.to_csv('clean_artist_count.csv')"
   ]
  },
  {
   "cell_type": "markdown",
   "metadata": {
    "id": "cGy_yddGtzhM"
   },
   "source": [
    "## 5. Answer the research question\n",
    "\n",
    "### **5.1:** Define and answer the research question \n",
    "Going back to the problem statement in step 1, use the cleaned data to answer the question you raised. Produce **at least** two visualizations using the cleaned data and explain how they help you answer the question."
   ]
  },
  {
   "cell_type": "code",
   "execution_count": 7,
   "metadata": {},
   "outputs": [
    {
     "data": {
      "image/png": "[encoded data removed]",
      "text/plain": [
       "<Figure size 800x800 with 1 Axes>"
      ]
     },
     "metadata": {},
     "output_type": "display_data"
    }
   ],
   "source": [
    "df_cleanedartist = pd.read_csv('clean_artist_count.csv')\n",
    "df_cleanedartist.hist(figsize=(8,8));"
   ]
  },
  {
   "cell_type": "markdown",
   "metadata": {},
   "source": [
    "*Answer to research question 1:* Out of 500 artists on the Rollings Stone's top 500 list, 138 artists also showed up on Spotify's most played list.\n"
   ]
  },
  {
   "cell_type": "code",
   "execution_count": 10,
   "metadata": {},
   "outputs": [
    {
     "name": "stderr",
     "output_type": "stream",
     "text": [
      "/workspace/pandas/plotting/_matplotlib/misc.py:100: UserWarning: Attempting to set identical low and high xlims makes transformation singular; automatically expanding.\n",
      "  ax.set_xlim(boundaries_list[j])\n",
      "/workspace/pandas/plotting/_matplotlib/misc.py:101: UserWarning: Attempting to set identical low and high ylims makes transformation singular; automatically expanding.\n",
      "  ax.set_ylim(boundaries_list[i])\n",
      "/workspace/pandas/plotting/_matplotlib/misc.py:91: UserWarning: Attempting to set identical low and high xlims makes transformation singular; automatically expanding.\n",
      "  ax.set_xlim(boundaries_list[i])\n"
     ]
    },
    {
     "data": {
      "image/png": "[encoded data removed]",
      "text/plain": [
       "<Figure size 1500x1500 with 16 Axes>"
      ]
     },
     "metadata": {},
     "output_type": "display_data"
    }
   ],
   "source": [
    "df_cleanedsongs = pd.read_csv('clean_song_count.csv')\n",
    "pd.plotting.scatter_matrix(df_cleanedsongs, figsize=(15, 15));"
   ]
  },
  {
   "cell_type": "markdown",
   "metadata": {
    "id": "K5RgvMGUZoHn"
   },
   "source": [
    "*Answer to research question 2:* Out of 500 songs on the Rollings Stone's top 500 list, 139 songs also showed up on Spotify's most played list. Some songs on Spotify were done by a different artist. "
   ]
  },
  {
   "cell_type": "markdown",
   "metadata": {
    "id": "0ezWXXZVj-TP"
   },
   "source": [
    "### **5.2:** Reflection\n",
    "In 2-4 sentences, if you had more time to complete the project, what actions would you take? For example, which data quality and structural issues would you look into further, and what research questions would you further explore?"
   ]
  },
  {
   "cell_type": "markdown",
   "metadata": {
    "id": "XB3RBDG5kFe1"
   },
   "source": [
    "*Answer:* If there was more time, I would use the year to track other metrics. One metric that might be useful is finding out which year had the most songs on the top 500 list. "
   ]
  }
 ],
 "metadata": {
  "colab": {
   "provenance": []
  },
  "kernelspec": {
   "display_name": "Python 3 (ipykernel)",
   "language": "python",
   "name": "python3"
  },
  "language_info": {
   "codemirror_mode": {
    "name": "ipython",
    "version": 3
   },
   "file_extension": ".py",
   "mimetype": "text/x-python",
   "name": "python",
   "nbconvert_exporter": "python",
   "pygments_lexer": "ipython3",
   "version": "3.10.11"
  }
 },
 "nbformat": 4,
 "nbformat_minor": 1
}
